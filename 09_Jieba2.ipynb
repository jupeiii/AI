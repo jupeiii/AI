{
 "cells": [
  {
   "cell_type": "code",
   "execution_count": 1,
   "metadata": {},
   "outputs": [],
   "source": [
    "import jieba\n",
    "jieba.set_dictionary('dictionary/dict.txt.big.txt')"
   ]
  },
  {
   "cell_type": "code",
   "execution_count": 2,
   "metadata": {
    "scrolled": true
   },
   "outputs": [
    {
     "name": "stderr",
     "output_type": "stream",
     "text": [
      "Building prefix dict from C:\\Users\\ASUS\\斷詞與文字雲\\dictionary\\dict.txt.big.txt ...\n",
      "Dumping model to file cache C:\\Users\\ASUS\\AppData\\Local\\Temp\\jieba.u240f1651e2de593fbe8725d5782fc1ca.cache\n",
      "Loading model cost 2.402 seconds.\n",
      "Prefix dict has been built succesfully.\n"
     ]
    },
    {
     "name": "stdout",
     "output_type": "stream",
     "text": [
      "Full Mode:  小白白/白白/來到/兔子/兔子天堂/天堂\n"
     ]
    }
   ],
   "source": [
    "seg_list = jieba.cut(\"小白白來到兔子天堂\",cut_all=True)\n",
    "print(\"Full Mode: \", \"/\".join(seg_list))"
   ]
  },
  {
   "cell_type": "code",
   "execution_count": 3,
   "metadata": {},
   "outputs": [
    {
     "name": "stdout",
     "output_type": "stream",
     "text": [
      "Default Mode:  小白白/來到/兔子天堂\n"
     ]
    }
   ],
   "source": [
    "seg_list = jieba.cut(\"小白白來到兔子天堂\",cut_all=False)\n",
    "print(\"Default Mode: \", \"/\".join(seg_list))"
   ]
  },
  {
   "cell_type": "code",
   "execution_count": 4,
   "metadata": {},
   "outputs": [
    {
     "name": "stdout",
     "output_type": "stream",
     "text": [
      "小白白/來到/兔子天堂\n"
     ]
    }
   ],
   "source": [
    "seg_list = jieba.cut(\"小白白來到兔子天堂\")\n",
    "print(\"/\".join(seg_list))"
   ]
  },
  {
   "cell_type": "code",
   "execution_count": 5,
   "metadata": {},
   "outputs": [
    {
     "name": "stdout",
     "output_type": "stream",
     "text": [
      "咪咪/咪咪姆姆/好/歡樂\n"
     ]
    }
   ],
   "source": [
    "seg_list = jieba.cut_for_search(\"咪咪姆姆好歡樂\")\n",
    "print(\"/\".join(seg_list))"
   ]
  }
 ],
 "metadata": {
  "kernelspec": {
   "display_name": "Python 3",
   "language": "python",
   "name": "python3"
  },
  "language_info": {
   "codemirror_mode": {
    "name": "ipython",
    "version": 3
   },
   "file_extension": ".py",
   "mimetype": "text/x-python",
   "name": "python",
   "nbconvert_exporter": "python",
   "pygments_lexer": "ipython3",
   "version": "3.7.0"
  }
 },
 "nbformat": 4,
 "nbformat_minor": 2
}
