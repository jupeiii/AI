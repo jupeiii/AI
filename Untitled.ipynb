{
 "cells": [
  {
   "cell_type": "code",
   "execution_count": null,
   "metadata": {},
   "outputs": [
    {
     "name": "stderr",
     "output_type": "stream",
     "text": [
      " * Running on http://localhost:9000/ (Press CTRL+C to quit)\n"
     ]
    }
   ],
   "source": [
    "from werkzeug.wrappers import Request, Response\n",
    "from flask import Flask\n",
    "import os\n",
    "import pandas as pd\n",
    "import numpy as np\n",
    "import sqlite3\n",
    "import sqlite3 as sql\n",
    "from flask import Flask, flash, jsonify, redirect, render_template, request, session\n",
    "import pandas as pd\n",
    "import numpy as np\n",
    "import sqlite3 as sql\n",
    "\n",
    "# import pymysql # 他一直跟我說找不到我也很崩潰ㄏㄏ，你安裝完pymysql套件之後，把這行不要註解，讓他去import\n",
    "# conn = pymysql.connect('localhost',port=3306,user='root',passwd='1234',charset='utf8', db='peng_eat')\n",
    "# cursor = conn.cursor()\n",
    "\n",
    "app = Flask(__name__)\n",
    "\n",
    "@app.route(\"/\")\n",
    "def hello():\n",
    "    return \"Hello World!wwwww\"\n",
    "\n",
    "@app.route(\"/record\",methods=[\"GET\", \"POST\"]) #紀錄頁面\n",
    "def record():\n",
    "    return render_template(\"record.html\")\n",
    "\n",
    "\n",
    "@app.route(\"/index\",methods=[\"GET\", \"POST\"])\n",
    "def index():\n",
    "    return render_template(\"index.html\")\n",
    "\n",
    "@app.route(\"/result\",methods=[\"GET\", \"POST\"])\n",
    "def result():\n",
    "    location1 = 1\n",
    "    #location1 = cursor.execute(\"SELECT Jieba1 FROM Random WHERE Id = 1\") #就是這行有問題\n",
    "    return render_template(\"result.html\",location1=location1) #這行是傳送參數到html檔的\n",
    "#如果把上面那行的改成location1=1，並且在瀏覽器網址打 location:9000/result，你會找到那個1!\n",
    "\n",
    "\n",
    "@app.route(\"/login\", methods=[\"GET\", \"POST\"])\n",
    "def login():\n",
    "    return render_template(\"login.html\")\n",
    "\n",
    "@app.route(\"/eat_history\", methods=[\"GET\", \"POST\"])\n",
    "def eat_history():\n",
    "    return render_template(\"eat_history.html\")\n",
    "\n",
    "@app.route(\"/random\", methods=[\"GET\", \"POST\"])\n",
    "def random():\n",
    "     return render_template(\"random.html\")\n",
    "\n",
    "@app.route(\"/register\", methods=[\"GET\", \"POST\"])\n",
    "def register():\n",
    "    \"\"\"Register user\"\"\"\n",
    "    return render_template(\"register.html\")\n",
    "    \n",
    "if __name__ == '__main__':\n",
    "    from werkzeug.serving import run_simple\n",
    "    run_simple('localhost', 9000, app)"
   ]
  },
  {
   "cell_type": "code",
   "execution_count": null,
   "metadata": {},
   "outputs": [],
   "source": [
    "import pandas as pd\n",
    "import numpy as np\n",
    "import sqlite3 as sql\n",
    "\n",
    "\n",
    "database = 'finance.db'\n",
    "connection = sql.connect(database)\n",
    "query = '''SELECT * FROM Random'''\n",
    "df = pd.read_sql_query(query, connection)\n",
    "df.head()"
   ]
  },
  {
   "cell_type": "code",
   "execution_count": null,
   "metadata": {},
   "outputs": [],
   "source": []
  }
 ],
 "metadata": {
  "kernelspec": {
   "display_name": "Python 3",
   "language": "python",
   "name": "python3"
  },
  "language_info": {
   "codemirror_mode": {
    "name": "ipython",
    "version": 3
   },
   "file_extension": ".py",
   "mimetype": "text/x-python",
   "name": "python",
   "nbconvert_exporter": "python",
   "pygments_lexer": "ipython3",
   "version": "3.7.3"
  }
 },
 "nbformat": 4,
 "nbformat_minor": 2
}
