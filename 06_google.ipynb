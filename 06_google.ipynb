{
 "cells": [
  {
   "cell_type": "code",
   "execution_count": 1,
   "metadata": {},
   "outputs": [
    {
     "name": "stdout",
     "output_type": "stream",
     "text": [
      "Title: 英國醜陋動物保護學會（the Ugly Animal Preservation Society）舉辦官方吉祥物票選，結果出爐──由生活在海洋深處的怪魚「水滴魚」（blobfish）名列最醜之首。 醜陋動物保護協會可謂用心良苦，希望透過吉祥物票選活動，喚醒外界保護「其貌不揚」的瀕臨絕種動物。\n",
      "URL: /?sa=X&ved=0ahUKEwiL7cOQ2KDlAhXAxYsBHaYUBBgQOwgC\n",
      "\n",
      "Title: 深海怪魚「水滴魚」當選最醜動物| ETtoday寵物雲| ETtoday新聞雲https://pets.ettoday.net › news\n",
      "URL: /?output=search&ie=UTF-8&sa=X&ved=0ahUKEwiL7cOQ2KDlAhXAxYsBHaYUBBgQPAgE\n",
      "\n",
      "Title: 深海怪魚「水滴魚」當選最醜動物| ETtoday寵物雲| ETtoday新聞雲https://pets.ettoday.net › ETtoday寵物雲\n",
      "URL: /search?q=%E4%B8%96%E7%95%8C%E4%B8%8A%E6%9C%80%E9%86%9C%E7%9A%84%E9%AD%9A&ie=UTF-8&gbv=1&sei=rQCnXcviBMCLr7wPpqmQwAE\n",
      "\n",
      "Title: 2013年9月13日 · 英國醜陋動物保護學會（the Ugly Animal Preservation Society）舉辦官方吉祥物票選，結果出爐──由生活在海洋深處的怪魚「水滴魚」（blobfish）名 ...\n",
      "URL: /search?q=%E4%B8%96%E7%95%8C%E4%B8%8A%E6%9C%80%E9%86%9C%E7%9A%84%E9%AD%9A&ie=UTF-8&source=lnms&tbm=isch&sa=X&ved=0ahUKEwiL7cOQ2KDlAhXAxYsBHaYUBBgQ_AUICCgB\n",
      "\n",
      "Title: 地球上10大醜到沒朋友的魚，水滴魚無懸念奪榜首，丑到全球聞名- 每 ...https://kknews.cc › 寵物\n",
      "URL: /search?q=%E4%B8%96%E7%95%8C%E4%B8%8A%E6%9C%80%E9%86%9C%E7%9A%84%E9%AD%9A&ie=UTF-8&source=lnms&tbm=nws&sa=X&ved=0ahUKEwiL7cOQ2KDlAhXAxYsBHaYUBBgQ_AUICSgC\n",
      "\n",
      "Title: 2017年7月25日 · 它們的是一種皮膚呈現粉色，永遠嘴角向下的魚，它們看起來似乎很悲傷的樣子。 也是因為它們的嘴角永遠都是向下，才獲得了世界上最丑的魚的 ...\n",
      "URL: /search?q=%E4%B8%96%E7%95%8C%E4%B8%8A%E6%9C%80%E9%86%9C%E7%9A%84%E9%AD%9A&ie=UTF-8&source=lnms&tbm=vid&sa=X&ved=0ahUKEwiL7cOQ2KDlAhXAxYsBHaYUBBgQ_AUICigD\n",
      "\n",
      "Title: 世界十大最丑動物：水滴魚- 每日頭條https://kknews.cc › 科學\n",
      "URL: https://maps.google.com.tw/maps?q=%E4%B8%96%E7%95%8C%E4%B8%8A%E6%9C%80%E9%86%9C%E7%9A%84%E9%AD%9A&um=1&ie=UTF-8&sa=X&ved=0ahUKEwiL7cOQ2KDlAhXAxYsBHaYUBBgQ_AUICygE\n",
      "\n",
      "Title: 2017年10月18日 · 世界十大最丑動物：水滴魚 ... 澳大利亞和紐西蘭深海捕魚船是世界上最活躍的船隊之一，所以，即便是 ... 水滴魚可以算得地球上最醜陋的動物了。\n",
      "URL: /search?q=%E4%B8%96%E7%95%8C%E4%B8%8A%E6%9C%80%E9%86%9C%E7%9A%84%E9%AD%9A&ie=UTF-8&source=lnms&tbm=bks&sa=X&ved=0ahUKEwiL7cOQ2KDlAhXAxYsBHaYUBBgQ_AUIDCgF\n",
      "\n",
      "Title: 「世界上最醜動物」其實只是一條「樣子普普」的魚！只是被拿上來時 ...https://www.teepr.com › cindyleung › 世界上最醜的動物\n",
      "URL: /advanced_search\n",
      "\n"
     ]
    }
   ],
   "source": [
    "import requests\n",
    "from bs4 import BeautifulSoup\n",
    "\n",
    "\n",
    "google_url = 'https://www.google.com.tw/search'  \n",
    "q = {'q':'世界上最醜的魚'}\n",
    "\n",
    "r = requests.get(google_url,params = q)\n",
    "\n",
    "\n",
    "if r.status_code == requests.codes.ok:\n",
    "    soup = BeautifulSoup(r.text,'html.parser')\n",
    "\n",
    "   \n",
    "items = soup.find_all('div', {'class':'kCrYT'})\n",
    "j = soup.find_all('a')\n",
    "\n",
    "for x in range(0,9):\n",
    "    print(\"Title: \" + items[x].text)\n",
    "    print(\"URL: \" + j[x].get('href'))\n",
    "    print()"
   ]
  },
  {
   "cell_type": "code",
   "execution_count": null,
   "metadata": {},
   "outputs": [],
   "source": []
  }
 ],
 "metadata": {
  "kernelspec": {
   "display_name": "Python 3",
   "language": "python",
   "name": "python3"
  },
  "language_info": {
   "codemirror_mode": {
    "name": "ipython",
    "version": 3
   },
   "file_extension": ".py",
   "mimetype": "text/x-python",
   "name": "python",
   "nbconvert_exporter": "python",
   "pygments_lexer": "ipython3",
   "version": "3.7.0"
  }
 },
 "nbformat": 4,
 "nbformat_minor": 2
}
