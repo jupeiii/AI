{
 "cells": [
  {
   "cell_type": "code",
   "execution_count": 1,
   "metadata": {},
   "outputs": [
    {
     "name": "stderr",
     "output_type": "stream",
     "text": [
      "Building prefix dict from C:\\Users\\ASUS\\斷詞與文字雲\\dictionary\\dict.txt.big.txt ...\n",
      "Loading model from cache C:\\Users\\ASUS\\AppData\\Local\\Temp\\jieba.u240f1651e2de593fbe8725d5782fc1ca.cache\n",
      "Loading model cost 1.697 seconds.\n",
      "Prefix dict has been built succesfully.\n"
     ]
    },
    {
     "name": "stdout",
     "output_type": "stream",
     "text": [
      "停用詞：來到/ㄛ/，/！/好\n"
     ]
    }
   ],
   "source": [
    "import jieba\n",
    "jieba.set_dictionary('dictionary/dict.txt.big.txt')\n",
    "jieba.load_userdict('dictionary/user_dict.txt')\n",
    "with open('dictionary/user_dict.txt', 'r', encoding='utf-8') as file:\n",
    "    stops = file.read().split('\\n')\n",
    "print(\"停用詞：\"+ '/'.join(stops))"
   ]
  },
  {
   "cell_type": "code",
   "execution_count": 2,
   "metadata": {
    "scrolled": true
   },
   "outputs": [
    {
     "name": "stdout",
     "output_type": "stream",
     "text": [
      "去除停用字之後的結果: 小白白/兔子天堂\n"
     ]
    }
   ],
   "source": [
    "seg_list = jieba.cut(\"小白白來到兔子天堂\",cut_all=False)\n",
    "final = []\n",
    "for i in seg_list:\n",
    "    if i not in stops:\n",
    "        final.append(i)\n",
    "print(\"去除停用字之後的結果: \"+\"/\".join(final))"
   ]
  },
  {
   "cell_type": "code",
   "execution_count": 3,
   "metadata": {},
   "outputs": [
    {
     "name": "stdout",
     "output_type": "stream",
     "text": [
      "去除停用字之後的結果: 咪咪姆姆/歡樂\n"
     ]
    }
   ],
   "source": [
    "seg_list0 = jieba.cut(\"咪咪姆姆好歡樂\")\n",
    "final0 = []\n",
    "for j in seg_list0:\n",
    "    if j not in stops:\n",
    "        final0.append(j)\n",
    "print(\"去除停用字之後的結果: \"+\"/\".join(final0))"
   ]
  }
 ],
 "metadata": {
  "kernelspec": {
   "display_name": "Python 3",
   "language": "python",
   "name": "python3"
  },
  "language_info": {
   "codemirror_mode": {
    "name": "ipython",
    "version": 3
   },
   "file_extension": ".py",
   "mimetype": "text/x-python",
   "name": "python",
   "nbconvert_exporter": "python",
   "pygments_lexer": "ipython3",
   "version": "3.7.0"
  }
 },
 "nbformat": 4,
 "nbformat_minor": 2
}
