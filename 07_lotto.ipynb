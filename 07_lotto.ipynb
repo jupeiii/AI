{
 "cells": [
  {
   "cell_type": "code",
   "execution_count": 1,
   "metadata": {},
   "outputs": [],
   "source": [
    "import requests\n",
    "from bs4 import BeautifulSoup\n",
    "import re"
   ]
  },
  {
   "cell_type": "code",
   "execution_count": 2,
   "metadata": {},
   "outputs": [
    {
     "data": {
      "text/plain": [
       "'                                     第1區 依大小順序排列： 13  14  15  16  31  33 第2區：  04                                      第1區 依開出順序排列： 16  13  33  15  14  31   '"
      ]
     },
     "execution_count": 2,
     "metadata": {},
     "output_type": "execute_result"
    }
   ],
   "source": [
    "\n",
    "url = 'http://www.taiwanlottery.com.tw/Result_all.aspx#01'\n",
    "html = requests.get(url)\n",
    "\n",
    "sp = BeautifulSoup(html.text, 'html.parser')\n",
    "\n",
    "data2 = sp.find_all('td', {'class':'even'})\n",
    "data4 = str(data2[4])\n",
    "\n",
    "def cleanhtml(raw_html):\n",
    "  cleanr = re.compile('<.*?>')\n",
    "  cleantext = re.sub(cleanr, ' ', raw_html)\n",
    "  text1 = cleantext.replace('\\r', '')\n",
    "  text2 = text1.replace('\\n', '')\n",
    "  return text2\n",
    "\n",
    "\n",
    "\n",
    "cleanhtml(data4)\n"
   ]
  },
  {
   "cell_type": "code",
   "execution_count": null,
   "metadata": {},
   "outputs": [],
   "source": []
  },
  {
   "cell_type": "code",
   "execution_count": null,
   "metadata": {},
   "outputs": [],
   "source": []
  }
 ],
 "metadata": {
  "kernelspec": {
   "display_name": "Python 3",
   "language": "python",
   "name": "python3"
  },
  "language_info": {
   "codemirror_mode": {
    "name": "ipython",
    "version": 3
   },
   "file_extension": ".py",
   "mimetype": "text/x-python",
   "name": "python",
   "nbconvert_exporter": "python",
   "pygments_lexer": "ipython3",
   "version": "3.7.0"
  }
 },
 "nbformat": 4,
 "nbformat_minor": 2
}
