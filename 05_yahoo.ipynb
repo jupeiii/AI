{
 "cells": [
  {
   "cell_type": "code",
   "execution_count": 1,
   "metadata": {},
   "outputs": [],
   "source": [
    "import requests,os\n",
    "from bs4 import BeautifulSoup\n",
    "\n",
    "r = requests.get('https://tw.yahoo.com/')\n",
    "\n",
    "if r.status_code == requests.codes.ok:\n",
    "    soup = BeautifulSoup(r.text, 'html.parser')"
   ]
  },
  {
   "cell_type": "code",
   "execution_count": 2,
   "metadata": {},
   "outputs": [
    {
     "name": "stdout",
     "output_type": "stream",
     "text": [
      "標題: 驚爆！陸製偽標品賣全台學校\n",
      "網址: https://tw.news.yahoo.com/%E9%BB%83%E5%9C%8B%E6%98%8C%E9%A9%9A%E7%88%86%E4%B8%AD%E8%A3%BD%E5%81%BD%E6%A8%99%E5%93%81%E8%B3%A3%E5%85%A8%E5%8F%B0%E5%AD%B8%E6%A0%A1%E6%88%90%E5%8A%9F%E5%B6%BA%E4%B9%9F%E6%B7%AA%E9%99%B7-041015286.html\n",
      "標題: KID道歉「績優役男」保不住了\n",
      "網址: https://tw.news.yahoo.com/%E6%9C%8D%E6%9B%BF%E4%BB%A3%E5%BD%B9%E7%88%86%E8%84%AB%E5%BA%8F%E8%AA%87%E5%BC%B5%E8%A1%8C%E5%BE%91-kid%E9%81%93%E6%AD%89%E4%BA%86-043256031.html\n",
      "標題: 無預警！63萬人粉專突被下架\n",
      "網址: https://tw.news.yahoo.com/%E9%9F%93%E7%B2%89%E5%87%BA%E5%BE%81-%E6%93%8163%E8%90%AC%E8%B2%93%E5%A5%B4%E8%87%89%E6%9B%B8%E7%A4%BE%E5%9C%98%E8%A2%AB%E4%B8%8B%E6%9E%B6-153215790.html\n",
      "標題: 13歲當小媽媽 孩子的爸是舅舅\n",
      "網址: https://tw.news.yahoo.com/%E8%B6%85%E9%9B%A2%E8%AD%9C-13%E6%AD%B2%E5%8F%B0%E5%A6%B9%E6%87%B7%E5%AD%95%E7%94%A2%E5%AD%90-%E5%B0%8F%E5%AD%A9%E7%94%9F%E7%88%B6%E7%AB%9F%E6%98%AF%E8%88%85%E8%88%85-140000033.html\n",
      "標題: 蔡英文 小心成為川普下枚棄子\n",
      "網址: https://tw.news.yahoo.com/-yahoo%E8%AB%96%E5%A3%87%E9%99%B3%E5%9C%8B%E7%A5%A5%E8%94%A1%E8%8B%B1%E6%96%87%E4%B8%8D%E8%A6%81%E8%A2%AB%E5%B7%9D%E6%99%AE%E5%A7%8B%E4%BA%82%E7%B5%82%E6%A3%84-230027138.html\n",
      "標題: 季後賽揚威 田中獲封10月先生\n",
      "網址: https://tw.news.yahoo.com/mlb-%E5%BE%9E%E7%A5%9E%E4%B9%8B%E5%AD%90%E5%88%B010%E6%9C%88%E4%B9%8B%E7%A5%9E-%E7%94%B0%E4%B8%AD%E5%B0%87%E5%A4%A7%E5%AD%A3%E5%BE%8C%E8%B3%BD%E6%96%B0%E7%B6%BD%E8%99%9F-045640138.html\n",
      "標題: 球迷脫序演出 瑞迪克發飆了\n",
      "網址: https://tw.news.yahoo.com/mlb-%E6%B4%8B%E5%9F%BA%E8%BF%B7%E4%B8%8D%E5%B0%8A%E9%87%8D%E6%AF%94%E8%B3%BD-%E4%B8%9F%E7%89%A9%E5%93%81%E9%80%B2%E5%A0%B4%E6%83%B9%E7%81%AB%E5%A4%AA%E7%A9%BA%E4%BA%BA%E5%A4%96%E9%87%8E%E6%89%8B-051544252.html\n",
      "標題: 左投嗑藥暴斃 天使竟知情不報\n",
      "網址: https://tw.sports.yahoo.com/news/mlb-%E5%A4%A9%E4%BD%BF%E6%8A%95%E6%89%8B%E5%97%91%E8%97%A5%E9%81%8E%E9%87%8F%E6%9A%B4%E6%96%83-%E7%90%83%E5%9C%98%E7%9F%A5%E6%83%85%E4%B8%8D%E5%A0%B1%E6%81%90%E6%8C%A8%E7%BD%B0-030508016.html\n",
      "標題: 投打守全面改造 開啟兄弟王朝\n",
      "網址: https://yahoo-cpbl-30th.tumblr.com/post/188226966109/30%E9%80%B1%E5%B9%B4%E9%AD%94%E8%A1%93%E6%95%99%E9%A0%AD-%E5%B1%B1%E6%A0%B9%E4%BF%8A%E8%8B%B1%E7%9A%84%E5%86%A0%E8%BB%8D%E9%8D%8A%E9%87%91%E8%A1%93\n",
      "標題: 打造運動時尚 靠這幾招就對了\n",
      "網址: https://tw.sports.yahoo.com/news/2019-%E7%A7%8B%E5%86%AC%E9%81%8B%E5%8B%95%E6%99%82%E5%B0%9A%E6%80%8E%E9%BA%BC%E7%A9%BF%E4%B8%8D%E5%A4%B1%E6%89%8B%E5%AD%B8%E9%9F%93%E6%98%9F%E9%80%99%E5%B9%BE%E6%8B%9B%E7%A9%BF%E8%B5%B7%E4%BE%86%E5%B0%B1%E5%B0%8D%E4%BA%86-081358984.html\n",
      "標題: 王子放閃新招！祝福文藏心機\n",
      "網址: https://tw.news.yahoo.com/%E7%8E%8B%E5%AD%90%E6%94%BE%E9%96%83%E6%96%B0%E6%8B%9B-%E7%A5%9D%E5%A5%B3%E5%8F%8B%E7%94%9F%E6%97%A5%E8%97%8F%E8%B6%85%E7%94%9C%E5%BF%83%E6%A9%9F-055005982.html\n",
      "標題: 赴韓喝喜酒這樣穿 瑤瑤被冷眼\n",
      "網址: https://tw.news.yahoo.com/%E9%9F%93%E5%9C%8B%E5%96%9D%E5%96%9C%E9%85%92-%E7%A9%BF%E9%8C%AF%E8%A1%A3-%E8%A2%AB%E5%86%B7%E7%9C%BC-%E5%A5%B3%E6%98%9F-%E5%9C%A8%E5%8F%B0%E7%81%A3%E5%BE%88ok%E5%95%8A-031631264.html\n",
      "標題: 確診肺癌！李麗霞急動刀保命\n",
      "網址: https://tw.news.yahoo.com/%E7%A2%BA%E8%A8%BA%E8%82%BA%E7%99%8C%E8%85%A6%E8%85%AB%E7%98%A4-%E5%A5%B3%E6%98%9F%E6%80%A5%E5%88%87%E5%B7%A6%E8%82%BA%E8%91%89%E4%BF%9D%E5%91%BD-031506380.html\n",
      "標題: 「小丑」拍戲發飆？原來是假的\n",
      "網址: https://movies.yahoo.com.tw/article/小丑-拍戲發飆其實是假的-大家都被瓦昆整了-083145778.html\n",
      "標題: 判若兩人！子涵黑歷史被挖出\n",
      "網址: https://tw.news.yahoo.com/%E5%AD%90%E6%B6%B5%E9%BB%91%E6%AD%B7%E5%8F%B2%E8%A2%AB%E6%8C%96-6%E5%B9%B4%E5%89%8D%E8%88%8A%E7%85%A7-%E6%89%81%E9%BC%BB%E5%B0%8F%E8%83%B8-%E5%88%A4%E8%8B%A5%E5%85%A9%E4%BA%BA-020151909.html\n",
      "標題: 室友激戰女友 轉頭見另一幕傻\n",
      "網址: https://tw.news.yahoo.com/%E5%AE%BF%E8%88%8D%E8%AE%8A%E7%82%AE%E6%88%BF-%E5%AE%A4%E5%8F%8B%E5%92%8C%E5%A5%B3%E5%8F%8B%E5%95%AA%E5%95%AA-%E4%BB%96%E9%A9%9A%E8%A6%8B%E5%8F%A6-%E5%B9%95%E6%84%A3%E4%BD%8F-080500561.html#1015im\n",
      "標題: 女體藏8cm流汁 揭2年真相醫呆\n",
      "網址: https://tw.news.yahoo.com/%E7%8B%82%E6%B5%81%E8%86%BF%E6%B1%81%E8%87%89%E5%BF%AB%E7%88%9B-%E5%A5%B3%E8%82%89%E8%A3%A1%E8%97%8F8cm%E6%A8%B9%E6%9E%9D-%E5%AE%B6%E4%BA%BA%E6%8F%AD%E9%A9%9A%E4%BA%BA%E7%9C%9F%E7%9B%B8-123012926.html#1016im\n",
      "標題: 家裡挖到50年1物 驚人價格曝光\n",
      "網址: https://tw.news.yahoo.com/%E5%AE%B6%E8%A3%A1%E6%8C%96%E5%88%B050%E5%B9%B4%E9%87%91%E9%96%80%E9%AB%98%E7%B2%B1-%E5%B8%82%E5%83%B9%E6%9B%9D%E5%85%89-132558368.html#1016im\n",
      "標題: 葬禮棺木傳「呼救聲」兒卻笑了\n",
      "網址: https://tw.news.yahoo.com/%E4%BA%A1%E7%88%B6%E6%A3%BA%E6%9D%90%E7%AA%81%E5%82%B3-%E5%91%BC%E6%95%91%E8%81%B2-%E7%9C%BE%E4%BA%BA%E5%85%A8%E7%A0%B4%E6%B6%95%E7%82%BA%E7%AC%91-055911696.html#1016im\n",
      "標題: 抓尪外遇查內褲 孩曝1事她GG\n",
      "網址: https://tw.news.yahoo.com/%E7%96%91%E5%B0%AA%E8%B2%B7%E6%98%A5-%E5%A5%B3%E5%85%92%E9%A9%9A%E6%9B%9D%E6%9C%83%E6%AA%A2%E6%9F%A5%E5%85%A7%E8%A4%B2-%E5%A6%BB%E4%B8%8B%E5%A0%B4%E6%85%98-020600314.html#1016im\n",
      "標題: 致死第一名癌症！專家推這食防\n",
      "網址: https://www.edh.tw/article/22848#1016ac\n",
      "標題: 脂肪肝元凶找到 醫絕不喝這杯\n",
      "網址: https://www.edh.tw/article/22784#1016ac\n",
      "標題: 牛奶配它喝有毒？研究揭真相\n",
      "網址: https://www.edh.tw/article/22781#1016ac\n",
      "標題: OL久坐全身「卡」一前兆當心\n",
      "網址: https://tw.youcard.yahoo.com/cardstack/ee5d1890-e85a-11e9-8ee6-5341563a2687#1016ac\n",
      "標題: 國民老婆好會扭累癱…尪暴動了\n",
      "網址: https://tw.news.yahoo.com/%E5%85%A8%E7%90%83%E7%98%8B%E9%80%99%E5%80%8B%E7%B4%AF%E8%A8%88%E9%8A%B7%E9%87%8F3687%E8%90%AC%E5%8F%B0-025230004.html#1016ac\n",
      "標題: 癌三年復發 老闆娘化療吐遺言\n",
      "網址: https://www.litv.tv/vod/drama/content.do?content_id=VOD00155076&sponsorName=eWFob28=&autoPlay=1#1016hh\n",
      "標題: 堅持不露臉 最紅主將慘丟飯碗\n",
      "網址: https://tw.tv.yahoo.com/thekingsavatar/%E5%85%A8%E8%81%B7%E9%AB%98%E6%89%8B-ep01-%E5%AE%8C%E6%95%B4%E7%89%88-020000060.html#1016hh\n",
      "標題: 砸千萬假鈔當老闆 名作家坐牢\n",
      "網址: https://tw.tv.yahoo.com/unexpected/%E4%BE%86%E5%88%B0%E4%BD%A0%E7%9A%84%E4%B8%96%E7%95%8C-ep02-%E5%AE%8C%E6%95%B4%E7%89%88-021000820.html#1016hh\n",
      "標題: 600萬成壁紙 退休翻身買三房\n",
      "網址: https://tw.tv.yahoo.com/mirrormedia/%E9%81%94%E4%BA%BA%E7%90%86%E8%B2%A1-%E6%9C%80%E7%94%A8%E5%8A%9F%E7%9A%84%E6%8A%95%E8%B3%87%E8%80%81%E5%B0%87-%E8%82%A1%E7%B4%A0%E4%BA%BA%E7%9A%84%E4%B8%8D%E6%9C%83%E5%80%92%E6%94%B6%E7%A7%9F%E8%82%A1%E6%93%8D%E4%BD%9Csop-233000460.html#1016hh\n",
      "標題: 寵物養這隻？戰鬥民族也怕了\n",
      "網址: https://tw.tv.yahoo.com/ycreators/%E6%88%B0%E9%AC%A5%E6%B0%91%E6%97%8F%E9%83%BD%E8%B7%9F%E7%86%8A%E6%89%93%E6%9E%B6%E5%97%8E-%E5%AF%A6%E9%9A%9B%E8%A8%AA%E5%95%8F%E7%A0%B4%E8%A7%A3%E4%BF%84%E7%BE%85%E6%96%AF9%E5%A4%A7%E8%BF%B7%E6%80%9D-141126938.html#1006hh\n"
     ]
    }
   ],
   "source": [
    "stories = soup.find_all('a',class_='story-title')\n",
    "\n",
    "for s in stories:\n",
    "    print('標題: ' + s.text)\n",
    "    print('網址: ' + s.get('href'))"
   ]
  },
  {
   "cell_type": "code",
   "execution_count": null,
   "metadata": {},
   "outputs": [],
   "source": [
    "    "
   ]
  }
 ],
 "metadata": {
  "kernelspec": {
   "display_name": "Python 3",
   "language": "python",
   "name": "python3"
  },
  "language_info": {
   "codemirror_mode": {
    "name": "ipython",
    "version": 3
   },
   "file_extension": ".py",
   "mimetype": "text/x-python",
   "name": "python",
   "nbconvert_exporter": "python",
   "pygments_lexer": "ipython3",
   "version": "3.7.0"
  }
 },
 "nbformat": 4,
 "nbformat_minor": 2
}
